{
 "cells": [
  {
   "cell_type": "code",
   "execution_count": 35,
   "metadata": {},
   "outputs": [],
   "source": [
    "#Convert any folder of images to csv\n",
    "import os\n",
    "import pandas as pd\n",
    "\n",
    "BASE_DIR = 'C:/Users/Sai Chaitanya/Desktop/links/sad_new/'\n",
    "\n",
    "img_folder = sorted(os.listdir(BASE_DIR))\n",
    "\n",
    "images=[i for i in img_folder]\n",
    "\n",
    "df = pd.DataFrame()\n",
    "df['images']=[str(x) for x in images]\n",
    "\n",
    "df.to_csv('sad_new.csv', header=None)"
   ]
  },
  {
   "cell_type": "code",
   "execution_count": 20,
   "metadata": {},
   "outputs": [],
   "source": [
    "import pickle"
   ]
  },
  {
   "cell_type": "code",
   "execution_count": 36,
   "metadata": {},
   "outputs": [],
   "source": [
    "#csv to dictionary\n",
    "import csv\n",
    "\n",
    "with open('sad_new.csv', mode='r') as infile:\n",
    "    reader = csv.reader(infile)\n",
    "    with open('sad_new1.csv', mode='w') as outfile:\n",
    "        writer = csv.writer(outfile)\n",
    "        mydict = {rows[0]:rows[1] for rows in reader}"
   ]
  },
  {
   "cell_type": "code",
   "execution_count": 38,
   "metadata": {},
   "outputs": [],
   "source": [
    "#converting dictionary values to float\n",
    "for dicts in mydict: \n",
    "    for keys in mydict: \n",
    "        mydict[keys] = float(mydict[keys]) "
   ]
  },
  {
   "cell_type": "code",
   "execution_count": 40,
   "metadata": {},
   "outputs": [],
   "source": [
    "#write to pickle file from dictionary\n",
    "with open('C:/Users/Sai Chaitanya/Desktop/emotion_sad.pkl', 'wb') as handle:\n",
    "    pickle.dump(mydict, handle, protocol=pickle.HIGHEST_PROTOCOL)\n",
    "\n",
    "with open('C:/Users/Sai Chaitanya/Desktop/emotion_sad.pkl', 'rb') as handle:\n",
    "    mydict = pickle.load(handle)"
   ]
  },
  {
   "cell_type": "code",
   "execution_count": 61,
   "metadata": {},
   "outputs": [],
   "source": [
    "#merge two pickle files using dictionary\n",
    "my_dict_new = {}  # Create an empty dictionary\n",
    "with open('C:/Users/Sai Chaitanya/Downloads/emotion_labels_angry.pkl', 'rb') as f:\n",
    "    my_dict_new.update(pickle.load(f))   # Update contents of file1 to the dictionary\n",
    "with open('C:/Users/Sai Chaitanya/Desktop/emotion_sad.pkl', 'rb') as f:\n",
    "    my_dict_new.update(pickle.load(f))   # Update contents of file2 to the dictionary\n",
    "\n",
    "# print my_dict_new_final"
   ]
  },
  {
   "cell_type": "code",
   "execution_count": 63,
   "metadata": {},
   "outputs": [],
   "source": [
    "#write to pickle file from dictionary\n",
    "with open('C:/Users/Sai Chaitanya/Desktop/emotion_labels_new.pkl', 'wb') as handle:\n",
    "    pickle.dump(my_dict_new, handle, protocol=pickle.HIGHEST_PROTOCOL)\n",
    "\n",
    "with open('C:/Users/Sai Chaitanya/Desktop/emotion_labels_new.pkl', 'rb') as handle:\n",
    "    my_dict_new = pickle.load(handle)"
   ]
  },
  {
   "cell_type": "code",
   "execution_count": 64,
   "metadata": {},
   "outputs": [],
   "source": [
    "#Read a pickle file\n",
    "#import pickle\n",
    "\n",
    "with open('C:/Users/Sai Chaitanya/Desktop/emotion_labels_new.pkl', 'rb') as f:\n",
    "    data_my = pickle.load(f)"
   ]
  },
  {
   "cell_type": "code",
   "execution_count": null,
   "metadata": {},
   "outputs": [],
   "source": []
  },
  {
   "cell_type": "code",
   "execution_count": null,
   "metadata": {},
   "outputs": [],
   "source": []
  }
 ],
 "metadata": {
  "kernelspec": {
   "display_name": "Python 3",
   "language": "python",
   "name": "python3"
  },
  "language_info": {
   "codemirror_mode": {
    "name": "ipython",
    "version": 3
   },
   "file_extension": ".py",
   "mimetype": "text/x-python",
   "name": "python",
   "nbconvert_exporter": "python",
   "pygments_lexer": "ipython3",
   "version": "3.7.1"
  },
  "latex_envs": {
   "LaTeX_envs_menu_present": true,
   "autoclose": false,
   "autocomplete": true,
   "bibliofile": "biblio.bib",
   "cite_by": "apalike",
   "current_citInitial": 1,
   "eqLabelWithNumbers": true,
   "eqNumInitial": 1,
   "hotkeys": {
    "equation": "Ctrl-E",
    "itemize": "Ctrl-I"
   },
   "labels_anchors": false,
   "latex_user_defs": false,
   "report_style_numbering": false,
   "user_envs_cfg": false
  },
  "toc": {
   "base_numbering": 1,
   "nav_menu": {},
   "number_sections": true,
   "sideBar": true,
   "skip_h1_title": false,
   "title_cell": "Table of Contents",
   "title_sidebar": "Contents",
   "toc_cell": false,
   "toc_position": {},
   "toc_section_display": true,
   "toc_window_display": false
  },
  "varInspector": {
   "cols": {
    "lenName": 16,
    "lenType": 16,
    "lenVar": 40
   },
   "kernels_config": {
    "python": {
     "delete_cmd_postfix": "",
     "delete_cmd_prefix": "del ",
     "library": "var_list.py",
     "varRefreshCmd": "print(var_dic_list())"
    },
    "r": {
     "delete_cmd_postfix": ") ",
     "delete_cmd_prefix": "rm(",
     "library": "var_list.r",
     "varRefreshCmd": "cat(var_dic_list()) "
    }
   },
   "types_to_exclude": [
    "module",
    "function",
    "builtin_function_or_method",
    "instance",
    "_Feature"
   ],
   "window_display": false
  }
 },
 "nbformat": 4,
 "nbformat_minor": 4
}
